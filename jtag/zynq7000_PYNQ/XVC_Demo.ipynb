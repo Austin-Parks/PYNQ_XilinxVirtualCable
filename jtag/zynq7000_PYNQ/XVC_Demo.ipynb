{
 "cells": [
  {
   "cell_type": "markdown",
   "id": "570f05b1-1955-4e71-a9c0-a67ba066d32d",
   "metadata": {},
   "source": [
    "# Tutorial: Xilinx Virtual Cable (XVC) with PYNQ"
   ]
  },
  {
   "cell_type": "code",
   "execution_count": null,
   "id": "410a1fe6-fd15-4166-bbff-bfff5e07fb50",
   "metadata": {
    "tags": []
   },
   "outputs": [],
   "source": [
    "%reload_ext autoreload\n",
    "%autoreload 2\n",
    "import os\n",
    "import pynq\n",
    "import time\n",
    "\n",
    "os.chdir('/home/xilinx/jupyter_notebooks/xvc_demo/PYNQ_XilinxVirtualCable/jtag/zynq7000_PYNQ')\n",
    "\n",
    "pynq.PL.reset()\n",
    "\n",
    "# The following will load the FW bit file\n",
    "# Note: the (*.hwh) must be in the same directory with\n",
    "# the exact same name, except for the file extension...\n",
    "ol = pynq.Overlay('XVC_Demo.bit')"
   ]
  },
  {
   "cell_type": "markdown",
   "id": "74b46573-4c27-4d0e-8895-5102981c162b",
   "metadata": {
    "tags": []
   },
   "source": [
    "## Demo FW Block Diagram\n",
    "\n",
    "![Block Diagram](Block_Diagram.png) "
   ]
  },
  {
   "cell_type": "code",
   "execution_count": null,
   "id": "08cdac72-08ee-46ea-b186-8dfbaaee4b7a",
   "metadata": {
    "tags": []
   },
   "outputs": [],
   "source": [
    "# This will show the ip_dict in a nice searchable view...\n",
    "ol.ip_dict"
   ]
  },
  {
   "cell_type": "code",
   "execution_count": null,
   "id": "83ceb8e2-7773-465e-8fab-41edc59e008e",
   "metadata": {
    "tags": []
   },
   "outputs": [],
   "source": [
    "import pynq_xvc_utils as pxvc\n",
    "\n",
    "# The following function will scan the PYNQ Overlay and launch XVC Server\n",
    "# instances (PYNQ Memory Mapped) for any Debug Bridge IP if finds that use\n",
    "# either of the following modes:\n",
    "#     \n",
    "#     AXI-to-BSCAN   (For debuging design in the same PL)\n",
    "#         or\n",
    "#     AXI-to-JTAG    (For debugging a seperate external FPGA Part using physical JTAG pins, multiple additional external JTAG chanis can be addeded !!!)\n",
    "\n",
    "xvc_list = pxvc.start_servers(ol)"
   ]
  },
  {
   "cell_type": "markdown",
   "id": "4fabe5f5-1251-4638-96d7-931881ad364d",
   "metadata": {
    "tags": []
   },
   "source": [
    "### Control AXI GPIO IP using PYNQ libraries"
   ]
  },
  {
   "cell_type": "code",
   "execution_count": null,
   "id": "c9c047d6-ca5e-4eea-95ca-a0ec5e812964",
   "metadata": {
    "tags": []
   },
   "outputs": [],
   "source": [
    "io_ctrl = ol.axi_gpio_0.channel1\n",
    "io_load = ol.axi_gpio_0.channel2\n",
    "\n",
    "count_mask = 0b01 # 1 bit\n",
    "clear_mask = 0b10 # 1 bit\n",
    "\n",
    "load_mask       = 0b11111111111111111 # 17 bits\n",
    "load_value_mask = 0b01111111111111111 # 16 bits\n",
    "load_en_mask    = 0b10000000000000000 #  1 bit"
   ]
  },
  {
   "cell_type": "markdown",
   "id": "7ae1a7d4-5782-443e-8219-1a9458295112",
   "metadata": {},
   "source": [
    "### Start / Stop Counter"
   ]
  },
  {
   "cell_type": "code",
   "execution_count": null,
   "id": "709afa99-7406-4b3c-939f-bc94f4fa63a2",
   "metadata": {
    "tags": []
   },
   "outputs": [],
   "source": [
    "# Set Counter Enable HIGH\n",
    "io_ctrl.write(0xFF, count_mask)"
   ]
  },
  {
   "cell_type": "code",
   "execution_count": null,
   "id": "81f8bbbe-d88f-43ab-b5ea-a27f35d53d8f",
   "metadata": {
    "tags": []
   },
   "outputs": [],
   "source": [
    "# Set Counter Enable LOW\n",
    "io_ctrl.write(0x00, count_mask)"
   ]
  },
  {
   "cell_type": "markdown",
   "id": "ab06cd2a-bda5-406e-9e8e-cb53d19cc6b0",
   "metadata": {},
   "source": [
    "### Clear / reset Counter"
   ]
  },
  {
   "cell_type": "code",
   "execution_count": null,
   "id": "155f9bb8-7d20-4366-a1bd-1de1515feb2e",
   "metadata": {
    "tags": []
   },
   "outputs": [],
   "source": [
    "# Stop Counter\n",
    "io_ctrl.write(0x00, count_mask)\n",
    "\n",
    "# Set Counter Clear HIGH\n",
    "io_ctrl.write(0xFF, clear_mask)\n",
    "\n",
    "time.sleep(0.01)\n",
    "\n",
    "# Set Counter Clear LOW\n",
    "io_ctrl.write(0x00, clear_mask)"
   ]
  },
  {
   "cell_type": "markdown",
   "id": "0b9bfe06-821e-43e4-8b46-367ba82ec791",
   "metadata": {},
   "source": [
    "### Load a value into counter\n",
    "\n",
    "#### You'll need to change the settings of the ILAs as shown:\n",
    "\n",
    "##### ILA 1:\n",
    "\n",
    "![ILA1](ila1_settings.png) \n",
    "\n",
    "Set ILA 1 trigger: 'xs_16_load_en' ('R')( transition from 0->1 ) :\n",
    "\n",
    "![ILA1_TRIG](ila1_trigger.png) \n",
    "\n",
    "##### ILA 2:\n",
    "\n",
    "![ILA2](ila2_settings.png) "
   ]
  },
  {
   "cell_type": "markdown",
   "id": "13401c51-9411-470c-a354-a05e1a6dec14",
   "metadata": {},
   "source": [
    "Now arm Both ILA 2 followed by ILA 1 and run the following cell."
   ]
  },
  {
   "cell_type": "code",
   "execution_count": null,
   "id": "639ea8e9-6077-4590-8b5a-0801b2c0a20b",
   "metadata": {
    "tags": []
   },
   "outputs": [],
   "source": [
    "# Start Counter\n",
    "io_ctrl.write(0xFF, count_mask)\n",
    "\n",
    "# Set Counter Load Value (16 bit value)\n",
    "io_load.write( (0xDEAD | 0x10000 ), load_mask )\n",
    "\n",
    "time.sleep(0.01)\n",
    "\n",
    "# Set Counter Load EN LOW\n",
    "io_load.write( (0xDEAD | 0x00000 ), load_mask)\n",
    "\n",
    "# Stop Counter\n",
    "io_ctrl.write(0x00, count_mask)"
   ]
  },
  {
   "cell_type": "markdown",
   "id": "a41adc76-0ede-4fe5-8c3d-0a76222d4901",
   "metadata": {},
   "source": [
    "After running the above cell you should see that both of the ILA cores have triggered:\n",
    "\n",
    "##### Hardwar Manager Waveform Output:\n",
    "\n",
    "![ILA_WAVEFORMS_LOAD](ila_waveforms_load.png) "
   ]
  },
  {
   "cell_type": "code",
   "execution_count": null,
   "id": "20469799-dda5-434d-9622-1a28302468ed",
   "metadata": {},
   "outputs": [],
   "source": []
  },
  {
   "cell_type": "code",
   "execution_count": null,
   "id": "1de83aab-7944-4723-81a0-bfea4f5ccab3",
   "metadata": {
    "tags": []
   },
   "outputs": [],
   "source": [
    "pxvc.stop_servers()"
   ]
  },
  {
   "cell_type": "code",
   "execution_count": null,
   "id": "086d00c3-b53a-4091-af21-a88a0b992131",
   "metadata": {},
   "outputs": [],
   "source": []
  }
 ],
 "metadata": {
  "kernelspec": {
   "display_name": "Python 3 (ipykernel)",
   "language": "python",
   "name": "python3"
  },
  "language_info": {
   "codemirror_mode": {
    "name": "ipython",
    "version": 3
   },
   "file_extension": ".py",
   "mimetype": "text/x-python",
   "name": "python",
   "nbconvert_exporter": "python",
   "pygments_lexer": "ipython3",
   "version": "3.10.4"
  }
 },
 "nbformat": 4,
 "nbformat_minor": 5
}
